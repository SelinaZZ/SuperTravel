{
 "cells": [
  {
   "cell_type": "markdown",
   "metadata": {},
   "source": [
    "# Web Scraping from Yelp"
   ]
  },
  {
   "cell_type": "code",
   "execution_count": 5,
   "metadata": {},
   "outputs": [],
   "source": [
    "CLIENT_ID = #Secret\n",
    "API_KEY = #Secret"
   ]
  },
  {
   "cell_type": "code",
   "execution_count": 6,
   "metadata": {},
   "outputs": [],
   "source": [
    "API_HOST = 'https://api.yelp.com'\n",
    "SEARCH_PATH = '/v3/businesses/search' \n",
    "BUSINESS_PATH = '/v3/businesses/'  "
   ]
  },
  {
   "cell_type": "code",
   "execution_count": 7,
   "metadata": {},
   "outputs": [
    {
     "name": "stdout",
     "output_type": "stream",
     "text": [
      "695\n",
      "695\n",
      "695\n",
      "695\n",
      "695\n"
     ]
    }
   ],
   "source": [
    "def get_museums(api_key,location):\n",
    "    import requests\n",
    "    \n",
    "    search_data = {\n",
    "        'term': \"museums\",\n",
    "        'location': location.replace(' ', '+'),\n",
    "        }\n",
    "    \n",
    "    headers = {\n",
    "        'Authorization': 'Bearer %s' % api_key,\n",
    "        }\n",
    "    \n",
    "    url = API_HOST + SEARCH_PATH\n",
    "    business_list = []\n",
    "    for offset in range(0, 1000, 50):\n",
    "        params = {\n",
    "            'limit': 50, \n",
    "            'location': location.replace(' ', '+'),\n",
    "            'term': \"museums\",\n",
    "            'offset': offset\n",
    "        }\n",
    "        search_data = params\n",
    "    \n",
    "        response = requests.request('GET', url, headers=headers, params=search_data).json()\n",
    "        businesses = response.get('businesses')\n",
    "    #     while True:\n",
    "        for b in businesses:\n",
    "            if b['categories']:\n",
    "                business_tuple = (b['name'],b['is_closed'],b['review_count'],b['categories'][0]['title'],b['rating'],b['location']['display_address'][0],b['display_phone'])\n",
    "            else:\n",
    "                business_tuple = (b['name'],b['is_closed'],b['review_count'],'Museums',b['rating'],b['location']['display_address'][0],b['display_phone'])\n",
    "            business_list.append(business_tuple)\n",
    "\n",
    "    return business_list\n",
    "\n",
    "def get_tourist_attractions(api_key,location):\n",
    "    import requests\n",
    "    \n",
    "    search_data = {\n",
    "    'term': \"Tourist Attractions\",\n",
    "    'location': location.replace(' ', '+'),\n",
    "    }\n",
    "    \n",
    "    url = API_HOST + SEARCH_PATH\n",
    "    headers = {\n",
    "        'Authorization': 'Bearer %s' % api_key,\n",
    "    }\n",
    "\n",
    "    business_list = []\n",
    "    \n",
    "    for offset in range(0, 1000, 50):\n",
    "        params = {\n",
    "            'limit': 50, \n",
    "            'location': location.replace(' ', '+'),\n",
    "            'term': \"museums\",\n",
    "            'offset': offset\n",
    "        }\n",
    "        search_data = params\n",
    "\n",
    "        response = requests.request('GET', url, headers=headers, params=search_data).json()\n",
    "        businesses = response.get('businesses')\n",
    "\n",
    "#     while True:\n",
    "        for b in businesses:\n",
    "            if b['categories']:\n",
    "                business_tuple = (b['name'],b['is_closed'],b['review_count'],b['categories'][0]['title'],b['rating'],b['location']['display_address'][0],b['display_phone'])\n",
    "            else:\n",
    "                business_tuple = (b['name'],b['is_closed'],b['review_count'],'Museums',b['rating'],b['location']['display_address'][0],b['display_phone']) \n",
    "            business_list.append(business_tuple)\n",
    "    return business_list\n",
    "\n",
    "def get_galleries(api_key,location):\n",
    "    import requests\n",
    "    \n",
    "    search_data = {\n",
    "    'term': \"galleries\",\n",
    "    'location': location.replace(' ', '+'),\n",
    "    }\n",
    "    url = API_HOST + SEARCH_PATH\n",
    "    headers = {\n",
    "        'Authorization': 'Bearer %s' % api_key,\n",
    "    }\n",
    "    \n",
    "    business_list = []\n",
    "        \n",
    "    for offset in range(0, 1000, 50):\n",
    "        params = {\n",
    "            'limit': 50, \n",
    "            'location': location.replace(' ', '+'),\n",
    "            'term': \"museums\",\n",
    "            'offset': offset\n",
    "        }\n",
    "        search_data = params\n",
    "    \n",
    "        response = requests.request('GET', url, headers=headers, params=search_data).json()\n",
    "        businesses = response.get('businesses')\n",
    "\n",
    "#     while True:\n",
    "        for b in businesses:\n",
    "            if b['categories']:\n",
    "                business_tuple = (b['name'],b['is_closed'],b['review_count'],b['categories'][0]['title'],b['rating'],b['location']['display_address'][0],b['display_phone'])\n",
    "            else:\n",
    "                business_tuple = (b['name'],b['is_closed'],b['review_count'],'Museums',b['rating'],b['location']['display_address'][0],b['display_phone'])\n",
    "            business_list.append(business_tuple)\n",
    "    return business_list\n",
    "\n",
    "def get_shopping_center(api_key,location):\n",
    "    import requests\n",
    "    \n",
    "    search_data = {\n",
    "    'term': \"Shopping Centers and Malls\",\n",
    "    'location': location.replace(' ', '+'),\n",
    "    }\n",
    "    url = API_HOST + SEARCH_PATH\n",
    "    headers = {\n",
    "        'Authorization': 'Bearer %s' % api_key,\n",
    "    }\n",
    "    business_list = []\n",
    "    for offset in range(0, 1000, 50):\n",
    "        params = {\n",
    "            'limit': 50, \n",
    "            'location': location.replace(' ', '+'),\n",
    "            'term': \"museums\",\n",
    "            'offset': offset\n",
    "        }\n",
    "        search_data = params\n",
    "        response = requests.request('GET', url, headers=headers, params=search_data).json()\n",
    "        businesses = response.get('businesses')\n",
    "\n",
    "#     while True:\n",
    "        for b in businesses:\n",
    "            if b['categories']:\n",
    "                business_tuple = (b['name'],b['is_closed'],b['review_count'],b['categories'][0]['title'],b['rating'],b['location']['display_address'][0],b['display_phone'])\n",
    "            else:\n",
    "                business_tuple = (b['name'],b['is_closed'],b['review_count'],'Museums',b['rating'],b['location']['display_address'][0],b['display_phone'])\n",
    "            business_list.append(business_tuple)\n",
    "    return business_list\n",
    "\n",
    "def get_amusement_park(api_key,location):\n",
    "    import requests\n",
    "    \n",
    "    search_data = {\n",
    "    'term': \"amusement park\",\n",
    "    'location': location.replace(' ', '+'),\n",
    "    }\n",
    "    url = API_HOST + SEARCH_PATH\n",
    "    headers = {\n",
    "        'Authorization': 'Bearer %s' % api_key,\n",
    "    }\n",
    "    business_list = []\n",
    "    for offset in range(0, 1000, 50):\n",
    "        params = {\n",
    "            'limit': 50, \n",
    "            'location': location.replace(' ', '+'),\n",
    "            'term': \"museums\",\n",
    "            'offset': offset\n",
    "        }    \n",
    "        search_data = params    \n",
    "        response = requests.request('GET', url, headers=headers, params=search_data).json()\n",
    "        businesses = response.get('businesses')\n",
    "\n",
    "#     while True:\n",
    "        for b in businesses:\n",
    "            if b['categories']:\n",
    "                business_tuple = (b['name'],b['is_closed'],b['review_count'],b['categories'][0]['title'],b['rating'],b['location']['display_address'][0],b['display_phone'])\n",
    "            else:\n",
    "                business_tuple = (b['name'],b['is_closed'],b['review_count'],'Museums',b['rating'],b['location']['display_address'][0],b['display_phone'])\n",
    "            business_list.append(business_tuple)\n",
    "    return business_list\n",
    "\n",
    "museums_list = get_museums(API_KEY,\"New York, NY\")\n",
    "tourist_attraction_list = get_tourist_attractions(API_KEY,\"New York, NY\")\n",
    "galleries_list = get_galleries(API_KEY,\"New York, NY\")\n",
    "shopping_center_list = get_shopping_center(API_KEY,\"New York, NY\")\n",
    "amusement_list = get_amusement_park(API_KEY,\"New York, NY\")\n",
    "\n",
    "All_output = dict()\n",
    "All_output[\"Museums\"] = museums_list\n",
    "All_output[\"Tourist Attraction\"] = tourist_attraction_list\n",
    "All_output[\"Galleries\"] = galleries_list\n",
    "All_output [\"Shopping Center\"] = shopping_center_list\n",
    "All_output[\"Amusement\"] = amusement_list\n",
    "print(len(museums_list))\n",
    "print(len(tourist_attraction_list))\n",
    "print(len(galleries_list))\n",
    "print(len(shopping_center_list))\n",
    "print(len(amusement_list))"
   ]
  },
  {
   "cell_type": "code",
   "execution_count": 8,
   "metadata": {},
   "outputs": [
    {
     "data": {
      "text/plain": [
       "('The Metropolitan Museum of Art',\n",
       " False,\n",
       " 2610,\n",
       " 'Art Museums',\n",
       " 4.5,\n",
       " '1000 5th Ave',\n",
       " '(212) 535-7710')"
      ]
     },
     "execution_count": 8,
     "metadata": {},
     "output_type": "execute_result"
    }
   ],
   "source": [
    "All_output['Museums'][0]"
   ]
  },
  {
   "cell_type": "markdown",
   "metadata": {},
   "source": [
    "# Create CSV file"
   ]
  },
  {
   "cell_type": "code",
   "execution_count": 5,
   "metadata": {},
   "outputs": [],
   "source": [
    "# conda install -c anaconda mysql-connector-python \n",
    "# conda install -c anaconda pymysql\n",
    "import pymysql\n",
    "import pandas as pd"
   ]
  },
  {
   "cell_type": "code",
   "execution_count": 8,
   "metadata": {},
   "outputs": [
    {
     "data": {
      "text/plain": [
       "0"
      ]
     },
     "execution_count": 8,
     "metadata": {},
     "output_type": "execute_result"
    }
   ],
   "source": [
    "conn = pymysql.connect(host='localhost', port=3306, user='root', passwd='mySQL', db='mysql')\n",
    "mycursor = conn.cursor()\n",
    "# mycursor.execute(\"CREATE DATABASE ToolProject\")\n",
    "mycursor.execute(\"DROP TABLE IF EXISTS attractions;\")\n",
    "mycursor.execute(\"CREATE TABLE attractions(id INT AUTO_INCREMENT PRIMARY KEY, name VARCHAR(255), is_closed BOOLEAN, review_count INT, categories VARCHAR(255), subcate VARCHAR(225),rate FLOAT, location VARCHAR(255), phone VARCHAR(255));\")"
   ]
  },
  {
   "cell_type": "code",
   "execution_count": 33,
   "metadata": {},
   "outputs": [],
   "source": [
    "def insertion():\n",
    "    for maincate in All_output.keys():\n",
    "        category = maincate\n",
    "        plist = All_output.get(maincate)\n",
    "        for tup in plist:\n",
    "            name = tup[0]\n",
    "            is_closed = tup[1]\n",
    "            review_count = tup[2]\n",
    "            subcate = tup[3]\n",
    "            rate = tup[4]\n",
    "            location = tup[5]\n",
    "            phone = tup[6]\n",
    "            values = (name, is_closed, review_count, )\n",
    "            sql = \"INSERT INTO attractions (name, is_closed, review_count, categories, subcate, rate, location, phone) VALUES (%s,%s,%s,%s,%s,%s,%s,%s);\"\n",
    "            values = (name, is_closed, review_count, category, subcate, rate, location, phone)\n",
    "            mycursor.execute(sql, values)\n",
    "insertion()"
   ]
  },
  {
   "cell_type": "code",
   "execution_count": 52,
   "metadata": {},
   "outputs": [
    {
     "data": {
      "text/plain": [
       "3495"
      ]
     },
     "execution_count": 52,
     "metadata": {},
     "output_type": "execute_result"
    }
   ],
   "source": [
    "mycursor.execute(\"select * from attractions\")"
   ]
  },
  {
   "cell_type": "code",
   "execution_count": 53,
   "metadata": {},
   "outputs": [],
   "source": [
    "import sys\n",
    "import csv\n",
    "\n",
    "rows = mycursor.fetchall()\n",
    "\n"
   ]
  },
  {
   "cell_type": "code",
   "execution_count": 54,
   "metadata": {},
   "outputs": [],
   "source": [
    "with open('tour.csv', 'w') as fp:\n",
    "    writer = csv.writer(fp)\n",
    "    writer.writerow(('id','name', 'is_closed', 'review_count', 'categories', 'subcate', 'rate', 'location', 'phone'))  # writer header row\n",
    "    writer.writerows(rows)"
   ]
  },
  {
   "cell_type": "markdown",
   "metadata": {},
   "source": [
    "<h1>Restaurant</h1>"
   ]
  },
  {
   "cell_type": "code",
   "execution_count": 25,
   "metadata": {},
   "outputs": [],
   "source": [
    "def get_restaurant(api_key,location):\n",
    "    import requests\n",
    "    \n",
    "    search_data = {\n",
    "    'term': \"restaruant\",\n",
    "    'location': location.replace(' ', '+'),\n",
    "    }\n",
    "    \n",
    "    url = API_HOST + SEARCH_PATH\n",
    "    headers = {\n",
    "        'Authorization': 'Bearer %s' % api_key,\n",
    "    }\n",
    "\n",
    "    restaurant_list = []\n",
    "    \n",
    "    params = {\n",
    "        'limit': 10, \n",
    "        'location': location.replace(' ', '+'),\n",
    "        'term': \"restaurant\",\n",
    "        'sort_by':'rating'\n",
    "#             'offset': offset\n",
    "    }\n",
    "    search_data = params\n",
    "\n",
    "    response = requests.request('GET', url, headers=headers, params=search_data).json()\n",
    "    businesses = response.get('businesses')\n",
    "\n",
    "#     while True:\n",
    "    for b in businesses:\n",
    "        if b['categories']:\n",
    "            business_tuple = (b['name'],b['is_closed'],b['review_count'],b['categories'][0]['title'],b['rating'],b['location']['display_address'][0],b['display_phone'])\n",
    "        else:\n",
    "            business_tuple = (b['name'],b['is_closed'],b['review_count'],'Museums',b['rating'],b['location']['display_address'][0],b['display_phone']) \n",
    "        restaurant_list.append(business_tuple)\n",
    "    return restaurant_list\n",
    "\n",
    "restaurant_list_ = {}\n",
    "for cat in All_output:\n",
    "    for place in range(len(cat)): \n",
    "        string = All_output[cat][place][0]\n",
    "        result = get_restaurant(API_KEY,string)\n",
    "        restaurant_list_[string] = result"
   ]
  },
  {
   "cell_type": "markdown",
   "metadata": {},
   "source": [
    "<h1>MAP"
   ]
  },
  {
   "cell_type": "markdown",
   "metadata": {},
   "source": [
    "<h2>Attraction Map"
   ]
  },
  {
   "cell_type": "code",
   "execution_count": 26,
   "metadata": {},
   "outputs": [
    {
     "name": "stdout",
     "output_type": "stream",
     "text": [
      "Enter Attraction CategoriesMuseums\n"
     ]
    },
    {
     "data": {
      "text/plain": [
       "<folium.map.Marker at 0x120fe2470>"
      ]
     },
     "execution_count": 26,
     "metadata": {},
     "output_type": "execute_result"
    }
   ],
   "source": [
    "import folium\n",
    "m = folium.Map(location=[40.8075,-73.9626],zoom_start=14)\n",
    "string = input('Enter Attraction Categories')\n",
    "if string != \"Museums\" and string != \"Tourist Attraction\" and string != \"Galleries\" and string != \"Shopping Center\" and string != \"Amusement\":\n",
    "    raise ValueError (\"Category is not in the list\")\n",
    "\n",
    "#     for place in range(len(All_output[string])):\n",
    "folium.Marker([40.8075,-73.9626],popup=All_output[string][1][0]).add_to(m)\n",
    "folium.Marker([40.8075,-73.9626],popup=All_output[string][0][0]).add_to(m)\n"
   ]
  },
  {
   "cell_type": "code",
   "execution_count": 27,
   "metadata": {},
   "outputs": [
    {
     "data": {
      "text/html": [
       "<div style=\"width:100%;\"><div style=\"position:relative;width:100%;height:0;padding-bottom:60%;\"><iframe src=\"data:text/html;charset=utf-8;base64,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\" style=\"position:absolute;width:100%;height:100%;left:0;top:0;border:none !important;\" allowfullscreen webkitallowfullscreen mozallowfullscreen></iframe></div></div>"
      ],
      "text/plain": [
       "<folium.folium.Map at 0x120ff1ac8>"
      ]
     },
     "execution_count": 27,
     "metadata": {},
     "output_type": "execute_result"
    }
   ],
   "source": [
    "m"
   ]
  },
  {
   "cell_type": "code",
   "execution_count": null,
   "metadata": {},
   "outputs": [],
   "source": []
  }
 ],
 "metadata": {
  "kernelspec": {
   "display_name": "Python 3",
   "language": "python",
   "name": "python3"
  },
  "language_info": {
   "codemirror_mode": {
    "name": "ipython",
    "version": 3
   },
   "file_extension": ".py",
   "mimetype": "text/x-python",
   "name": "python",
   "nbconvert_exporter": "python",
   "pygments_lexer": "ipython3",
   "version": "3.7.0"
  }
 },
 "nbformat": 4,
 "nbformat_minor": 2
}
