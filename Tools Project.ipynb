{
 "cells": [
  {
   "cell_type": "markdown",
   "metadata": {},
   "source": [
    "# Web Scraping from Yelp"
   ]
  },
  {
   "cell_type": "code",
   "execution_count": 1,
   "metadata": {},
   "outputs": [],
   "source": [
    "CLIENT_ID = #Secret\n",
    "API_KEY = #Secret"
   ]
  },
  {
   "cell_type": "code",
   "execution_count": 2,
   "metadata": {},
   "outputs": [],
   "source": [
    "API_HOST = 'https://api.yelp.com'\n",
    "SEARCH_PATH = '/v3/businesses/search' \n",
    "BUSINESS_PATH = '/v3/businesses/'  "
   ]
  },
  {
   "cell_type": "code",
   "execution_count": 3,
   "metadata": {},
   "outputs": [
    {
     "name": "stdout",
     "output_type": "stream",
     "text": [
      "699\n",
      "699\n",
      "699\n",
      "699\n",
      "699\n"
     ]
    }
   ],
   "source": [
    "def get_museums(api_key,location):\n",
    "    import requests\n",
    "    \n",
    "    search_data = {\n",
    "        'term': \"museums\",\n",
    "        'location': location.replace(' ', '+'),\n",
    "        }\n",
    "    \n",
    "    headers = {\n",
    "        'Authorization': 'Bearer %s' % api_key,\n",
    "        }\n",
    "    \n",
    "    url = API_HOST + SEARCH_PATH\n",
    "    business_list = []\n",
    "    for offset in range(0, 1000, 50):\n",
    "        params = {\n",
    "            'limit': 50, \n",
    "            'location': location.replace(' ', '+'),\n",
    "            'term': \"museums\",\n",
    "            'offset': offset\n",
    "        }\n",
    "        search_data = params\n",
    "    \n",
    "        response = requests.request('GET', url, headers=headers, params=search_data).json()\n",
    "        businesses = response.get('businesses')\n",
    "    #     while True:\n",
    "        for b in businesses:\n",
    "            if b['categories']:\n",
    "                business_tuple = (b['name'],b['is_closed'],b['review_count'],b['categories'][0]['title'],b['rating'],b['location']['display_address'][0],b['display_phone'])\n",
    "            else:\n",
    "                business_tuple = (b['name'],b['is_closed'],b['review_count'],'Museums',b['rating'],b['location']['display_address'][0],b['display_phone'])\n",
    "            business_list.append(business_tuple)\n",
    "\n",
    "    return business_list\n",
    "\n",
    "def get_tourist_attractions(api_key,location):\n",
    "    import requests\n",
    "    \n",
    "    search_data = {\n",
    "    'term': \"Tourist Attractions\",\n",
    "    'location': location.replace(' ', '+'),\n",
    "    }\n",
    "    \n",
    "    url = API_HOST + SEARCH_PATH\n",
    "    headers = {\n",
    "        'Authorization': 'Bearer %s' % api_key,\n",
    "    }\n",
    "\n",
    "    business_list = []\n",
    "    \n",
    "    for offset in range(0, 1000, 50):\n",
    "        params = {\n",
    "            'limit': 50, \n",
    "            'location': location.replace(' ', '+'),\n",
    "            'term': \"museums\",\n",
    "            'offset': offset\n",
    "        }\n",
    "        search_data = params\n",
    "\n",
    "        response = requests.request('GET', url, headers=headers, params=search_data).json()\n",
    "        businesses = response.get('businesses')\n",
    "\n",
    "#     while True:\n",
    "        for b in businesses:\n",
    "            if b['categories']:\n",
    "                business_tuple = (b['name'],b['is_closed'],b['review_count'],b['categories'][0]['title'],b['rating'],b['location']['display_address'][0],b['display_phone'])\n",
    "            else:\n",
    "                business_tuple = (b['name'],b['is_closed'],b['review_count'],'Museums',b['rating'],b['location']['display_address'][0],b['display_phone']) \n",
    "            business_list.append(business_tuple)\n",
    "    return business_list\n",
    "\n",
    "def get_galleries(api_key,location):\n",
    "    import requests\n",
    "    \n",
    "    search_data = {\n",
    "    'term': \"galleries\",\n",
    "    'location': location.replace(' ', '+'),\n",
    "    }\n",
    "    url = API_HOST + SEARCH_PATH\n",
    "    headers = {\n",
    "        'Authorization': 'Bearer %s' % api_key,\n",
    "    }\n",
    "    \n",
    "    business_list = []\n",
    "        \n",
    "    for offset in range(0, 1000, 50):\n",
    "        params = {\n",
    "            'limit': 50, \n",
    "            'location': location.replace(' ', '+'),\n",
    "            'term': \"museums\",\n",
    "            'offset': offset\n",
    "        }\n",
    "        search_data = params\n",
    "    \n",
    "        response = requests.request('GET', url, headers=headers, params=search_data).json()\n",
    "        businesses = response.get('businesses')\n",
    "\n",
    "#     while True:\n",
    "        for b in businesses:\n",
    "            if b['categories']:\n",
    "                business_tuple = (b['name'],b['is_closed'],b['review_count'],b['categories'][0]['title'],b['rating'],b['location']['display_address'][0],b['display_phone'])\n",
    "            else:\n",
    "                business_tuple = (b['name'],b['is_closed'],b['review_count'],'Museums',b['rating'],b['location']['display_address'][0],b['display_phone'])\n",
    "            business_list.append(business_tuple)\n",
    "    return business_list\n",
    "\n",
    "def get_shopping_center(api_key,location):\n",
    "    import requests\n",
    "    \n",
    "    search_data = {\n",
    "    'term': \"Shopping Centers and Malls\",\n",
    "    'location': location.replace(' ', '+'),\n",
    "    }\n",
    "    url = API_HOST + SEARCH_PATH\n",
    "    headers = {\n",
    "        'Authorization': 'Bearer %s' % api_key,\n",
    "    }\n",
    "    business_list = []\n",
    "    for offset in range(0, 1000, 50):\n",
    "        params = {\n",
    "            'limit': 50, \n",
    "            'location': location.replace(' ', '+'),\n",
    "            'term': \"museums\",\n",
    "            'offset': offset\n",
    "        }\n",
    "        search_data = params\n",
    "        response = requests.request('GET', url, headers=headers, params=search_data).json()\n",
    "        businesses = response.get('businesses')\n",
    "\n",
    "#     while True:\n",
    "        for b in businesses:\n",
    "            if b['categories']:\n",
    "                business_tuple = (b['name'],b['is_closed'],b['review_count'],b['categories'][0]['title'],b['rating'],b['location']['display_address'][0],b['display_phone'])\n",
    "            else:\n",
    "                business_tuple = (b['name'],b['is_closed'],b['review_count'],'Museums',b['rating'],b['location']['display_address'][0],b['display_phone'])\n",
    "            business_list.append(business_tuple)\n",
    "    return business_list\n",
    "\n",
    "def get_amusement_park(api_key,location):\n",
    "    import requests\n",
    "    \n",
    "    search_data = {\n",
    "    'term': \"amusement park\",\n",
    "    'location': location.replace(' ', '+'),\n",
    "    }\n",
    "    url = API_HOST + SEARCH_PATH\n",
    "    headers = {\n",
    "        'Authorization': 'Bearer %s' % api_key,\n",
    "    }\n",
    "    business_list = []\n",
    "    for offset in range(0, 1000, 50):\n",
    "        params = {\n",
    "            'limit': 50, \n",
    "            'location': location.replace(' ', '+'),\n",
    "            'term': \"museums\",\n",
    "            'offset': offset\n",
    "        }    \n",
    "        search_data = params    \n",
    "        response = requests.request('GET', url, headers=headers, params=search_data).json()\n",
    "        businesses = response.get('businesses')\n",
    "\n",
    "#     while True:\n",
    "        for b in businesses:\n",
    "            if b['categories']:\n",
    "                business_tuple = (b['name'],b['is_closed'],b['review_count'],b['categories'][0]['title'],b['rating'],b['location']['display_address'][0],b['display_phone'])\n",
    "            else:\n",
    "                business_tuple = (b['name'],b['is_closed'],b['review_count'],'Museums',b['rating'],b['location']['display_address'][0],b['display_phone'])\n",
    "            business_list.append(business_tuple)\n",
    "    return business_list\n",
    "\n",
    "museums_list = get_museums(API_KEY,\"New York, NY\")\n",
    "tourist_attraction_list = get_tourist_attractions(API_KEY,\"New York, NY\")\n",
    "galleries_list = get_galleries(API_KEY,\"New York, NY\")\n",
    "shopping_center_list = get_shopping_center(API_KEY,\"New York, NY\")\n",
    "amusement_list = get_amusement_park(API_KEY,\"New York, NY\")\n",
    "\n",
    "All_output = dict()\n",
    "All_output[\"Museums\"] = museums_list\n",
    "All_output[\"Tourist Attraction\"] = tourist_attraction_list\n",
    "All_output[\"Galleries\"] = galleries_list\n",
    "All_output [\"Shopping Center\"] = shopping_center_list\n",
    "All_output[\"Amusement\"] = amusement_list\n",
    "print(len(museums_list))\n",
    "print(len(tourist_attraction_list))\n",
    "print(len(galleries_list))\n",
    "print(len(shopping_center_list))\n",
    "print(len(amusement_list))"
   ]
  },
  {
   "cell_type": "code",
   "execution_count": 19,
   "metadata": {},
   "outputs": [
    {
     "data": {
      "text/plain": [
       "('The Metropolitan Museum of Art',\n",
       " False,\n",
       " 2591,\n",
       " 'Art Museums',\n",
       " 4.5,\n",
       " '1000 5th Ave',\n",
       " '(212) 535-7710')"
      ]
     },
     "execution_count": 19,
     "metadata": {},
     "output_type": "execute_result"
    }
   ],
   "source": [
    "All_output['Museums'][0]"
   ]
  },
  {
   "cell_type": "markdown",
   "metadata": {},
   "source": [
    "# Create CSV file"
   ]
  },
  {
   "cell_type": "code",
   "execution_count": 5,
   "metadata": {},
   "outputs": [],
   "source": [
    "# conda install -c anaconda mysql-connector-python \n",
    "# conda install -c anaconda pymysql\n",
    "import pymysql\n",
    "import pandas as pd"
   ]
  },
  {
   "cell_type": "code",
   "execution_count": 8,
   "metadata": {},
   "outputs": [
    {
     "data": {
      "text/plain": [
       "0"
      ]
     },
     "execution_count": 8,
     "metadata": {},
     "output_type": "execute_result"
    }
   ],
   "source": [
    "conn = pymysql.connect(host='localhost', port=3306, user='root', passwd='mySQL', db='mysql')\n",
    "mycursor = conn.cursor()\n",
    "# mycursor.execute(\"CREATE DATABASE ToolProject\")\n",
    "mycursor.execute(\"DROP TABLE IF EXISTS attractions;\")\n",
    "mycursor.execute(\"CREATE TABLE attractions(id INT AUTO_INCREMENT PRIMARY KEY, name VARCHAR(255), is_closed BOOLEAN, review_count INT, categories VARCHAR(255), subcate VARCHAR(225),rate FLOAT, location VARCHAR(255), phone VARCHAR(255));\")"
   ]
  },
  {
   "cell_type": "code",
   "execution_count": 33,
   "metadata": {},
   "outputs": [],
   "source": [
    "def insertion():\n",
    "    for maincate in All_output.keys():\n",
    "        category = maincate\n",
    "        plist = All_output.get(maincate)\n",
    "        for tup in plist:\n",
    "            name = tup[0]\n",
    "            is_closed = tup[1]\n",
    "            review_count = tup[2]\n",
    "            subcate = tup[3]\n",
    "            rate = tup[4]\n",
    "            location = tup[5]\n",
    "            phone = tup[6]\n",
    "            values = (name, is_closed, review_count, )\n",
    "            sql = \"INSERT INTO attractions (name, is_closed, review_count, categories, subcate, rate, location, phone) VALUES (%s,%s,%s,%s,%s,%s,%s,%s);\"\n",
    "            values = (name, is_closed, review_count, category, subcate, rate, location, phone)\n",
    "            mycursor.execute(sql, values)\n",
    "insertion()"
   ]
  },
  {
   "cell_type": "code",
   "execution_count": 52,
   "metadata": {},
   "outputs": [
    {
     "data": {
      "text/plain": [
       "3495"
      ]
     },
     "execution_count": 52,
     "metadata": {},
     "output_type": "execute_result"
    }
   ],
   "source": [
    "mycursor.execute(\"select * from attractions\")"
   ]
  },
  {
   "cell_type": "code",
   "execution_count": 53,
   "metadata": {},
   "outputs": [],
   "source": [
    "import sys\n",
    "import csv\n",
    "\n",
    "rows = mycursor.fetchall()\n",
    "\n"
   ]
  },
  {
   "cell_type": "code",
   "execution_count": 54,
   "metadata": {},
   "outputs": [],
   "source": [
    "with open('tour.csv', 'w') as fp:\n",
    "    writer = csv.writer(fp)\n",
    "    writer.writerow(('id','name', 'is_closed', 'review_count', 'categories', 'subcate', 'rate', 'location', 'phone'))  # writer header row\n",
    "    writer.writerows(rows)"
   ]
  },
  {
   "cell_type": "code",
   "execution_count": null,
   "metadata": {},
   "outputs": [],
   "source": []
  }
 ],
 "metadata": {
  "kernelspec": {
   "display_name": "Python 3",
   "language": "python",
   "name": "python3"
  },
  "language_info": {
   "codemirror_mode": {
    "name": "ipython",
    "version": 3
   },
   "file_extension": ".py",
   "mimetype": "text/x-python",
   "name": "python",
   "nbconvert_exporter": "python",
   "pygments_lexer": "ipython3",
   "version": "3.6.5"
  }
 },
 "nbformat": 4,
 "nbformat_minor": 2
}
