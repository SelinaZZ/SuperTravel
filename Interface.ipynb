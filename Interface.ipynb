{
 "cells": [
  {
   "cell_type": "markdown",
   "metadata": {},
   "source": [
    "# Create the Interface"
   ]
  },
  {
   "cell_type": "code",
   "execution_count": 34,
   "metadata": {},
   "outputs": [],
   "source": [
    "# !pip install python-tk\n",
    "import tkinter as tk\n",
    "from tkinter import *\n",
    "import tkinter.scrolledtext as tkst\n",
    "from tkinter import ttk\n",
    "import webbrowser"
   ]
  },
  {
   "cell_type": "code",
   "execution_count": 67,
   "metadata": {},
   "outputs": [
    {
     "name": "stdout",
     "output_type": "stream",
     "text": [
      "You pressed Submit!\n",
      "from Jan 1 2018 to Jan 1 2018 with interested in \n",
      "Shopping Center\n"
     ]
    }
   ],
   "source": [
    "root = Tk()\n",
    "root.title(\"Tour Guidance\")\n",
    "root.geometry(\"1200x600\")\n",
    "\n",
    "app = Frame(root)\n",
    "# set the lavel to get customer's reference\n",
    "ttk.Label(app, text = \"Please choose your travel reference in NYC:\").grid(row=0)\n",
    "# set the traveller's date\n",
    "ttk.Label(app, text=\"Choose your arrival month:\").grid(column=0, row=1)\n",
    "number = tk.StringVar()\n",
    "numberChosen = ttk.Combobox(app, width=12, textvariable=number)\n",
    "numberChosen['values'] = ('Jan', 'Feb', 'Mar','Apr','May','Jun','Jul','Aug','Sep','Oct','Nov','Dec')\n",
    "numberChosen.grid(column=0, row=2)\n",
    "numberChosen.current(0)\n",
    "ttk.Label(app, text=\"Choose your arrival date:\").grid(column=1, row=1)\n",
    "number1 = tk.StringVar()\n",
    "numberChosen1 = ttk.Combobox(app, width=12, textvariable=number1)\n",
    "numberChosen1['values'] = ([i for i in range(1,32)])\n",
    "numberChosen1.grid(column=1, row=2)\n",
    "numberChosen1.current(0)\n",
    "ttk.Label(app, text=\"Choose your year:\").grid(column=2, row=1)\n",
    "number5 = tk.StringVar()\n",
    "numberChosen5 = ttk.Combobox(app, width=12, textvariable=number5)\n",
    "numberChosen5['values'] = ([i for i in range(2018,2051)])\n",
    "numberChosen5.grid(column=2, row=2)\n",
    "numberChosen5.current(0)\n",
    "ttk.Label(app, text=\"Choose your departure month:\").grid(column=3, row=1)\n",
    "number2 = tk.StringVar()\n",
    "numberChosen2 = ttk.Combobox(app, width=12, textvariable='Jan')\n",
    "numberChosen2['values'] = ('Jan', 'Feb', 'Mar','Apr','May','Jun','Jul','Aug','Sep','Oct','Nov','Dec')\n",
    "numberChosen2.grid(column=3, row=2)\n",
    "numberChosen2.current(0)\n",
    "ttk.Label(app, text=\"Choose your arrival date:\").grid(column=4, row=1)\n",
    "number3 = tk.StringVar()\n",
    "numberChosen3 = ttk.Combobox(app, width=12, textvariable=number3)\n",
    "numberChosen3['values'] = ([i for i in range(1,32)])\n",
    "numberChosen3.grid(column=4, row=2)\n",
    "numberChosen3.current(0)\n",
    "ttk.Label(app, text=\"Choose your year:\").grid(column=5, row=1)\n",
    "number4 = tk.StringVar()\n",
    "numberChosen4 = ttk.Combobox(app, width=12, textvariable=number4)\n",
    "numberChosen4['values'] = ([i for i in range(2018,2051)])\n",
    "numberChosen4.grid(column=5, row=2)\n",
    "numberChosen4.current(0)\n",
    "\n",
    "# get preference of location, tourist places\n",
    "types = ['Museums','Tourist Attraction','Galleries','Shopping Center','Amusement']\n",
    "ttk.Label(app, text=\"Choose your travel places:\").grid(column=0, row=3)\n",
    "var = []\n",
    "for i in range(len(types)):\n",
    "    var.append(IntVar())\n",
    "    c = Checkbutton(app, text = types[i], variable = var[i], onvalue = 1, offvalue = 0)\n",
    "    c.grid()\n",
    "# ttk.Label(app, text=\"If you have favored address, please write down:\").grid(column=0, row=9)\n",
    "# t = Entry(app, width=40)\n",
    "# t.grid()\n",
    "\n",
    "def buttonClick():\n",
    "    global amonth, adate, ayear, dmonth, ddate, dyear, interests\n",
    "    amonth = numberChosen.get()\n",
    "    adate = numberChosen1.get()\n",
    "    ayear = numberChosen5.get()\n",
    "    dmonth = numberChosen2.get()\n",
    "    ddate = numberChosen3.get()\n",
    "    dyear = numberChosen4.get()\n",
    "    interests = ', '.join(list(map(lambda x: types[x], [i for i in range(len(var)) if var[i].get()==1])))\n",
    "#     address = t.get()\n",
    "    print(\"You pressed Submit!\")\n",
    "    print(\"from \" + amonth + \" \" + adate + \" \" + ayear + \" to \" + dmonth + \" \" + ddate + \" \" + dyear + \" with interested in \")\n",
    "    print(', '.join(list(map(lambda x: types[x], [i for i in range(len(var)) if var[i].get()==1]))))\n",
    "#     print(' with address in ' + t.get())\n",
    "    app.destroy()\n",
    "    with open('userinput','w') as fp:\n",
    "        fp.write(amonth + '\\n')\n",
    "        fp.write(adate + '\\n')\n",
    "        fp.write(ayear + '\\n')\n",
    "        fp.write(dmonth + '\\n')\n",
    "        fp.write(ddate + '\\n')\n",
    "        fp.write(dyear + '\\n')\n",
    "        fp.write(interests + '\\n')\n",
    "    places_interface()\n",
    "\n",
    "b = Button(app, command = buttonClick, text=\"OK\")\n",
    "b.grid()\n",
    "\n",
    "\n",
    "app.grid()\n",
    "root.mainloop()\n",
    "# interests = ', '.join(list(map(lambda x: types[x], [i for i in range(len(var)) if var[i].get() == 1])))"
   ]
  },
  {
   "cell_type": "code",
   "execution_count": 7,
   "metadata": {},
   "outputs": [],
   "source": [
    "# from IPython import get_ipython\n",
    "# from nbformat import read\n",
    "# from IPython.core.interactiveshell import InteractiveShell"
   ]
  },
  {
   "cell_type": "code",
   "execution_count": 62,
   "metadata": {},
   "outputs": [],
   "source": [
    "# new interface for places\n",
    "def places_interface():\n",
    "    pl = Frame(root)\n",
    "    \n",
    "    ttk.Label(pl, text = \"These are our recommended attractions you may be interested in:\").grid(row=0)\n",
    "    get_attraction = get_attractions()\n",
    "    \n",
    "    def prep(event):\n",
    "        event.widget.config(bg='light blue')\n",
    "        event.widget.focus_set()  # give keyboard focus to the label\n",
    "        event.widget.bind('<Key>', edit)\n",
    "\n",
    "    def edit(event):\n",
    "        print(event.char)\n",
    "    \n",
    "    for i in get_attraction:   \n",
    "        button2 = tk.Button(pl,text=i,fg=\"green\")\n",
    "        button2.grid()\n",
    "        \n",
    "    button1 = tk.Button(pl, text=\"QUIT\", fg=\"pink\", command=quit)\n",
    "    button1.grid()\n",
    "    \n",
    "    get_map(get_attraction)\n",
    "    \n",
    "    image_url = \"map.html\"\n",
    "    img1 = tk.PhotoImage(image_url)\n",
    "    l = ttk.Label(pl,image=img1)\n",
    "    l.grid()\n",
    "    \n",
    "    pl.grid()\n",
    "    \n",
    "    "
   ]
  },
  {
   "cell_type": "markdown",
   "metadata": {},
   "source": [
    "# Get Restaurant"
   ]
  },
  {
   "cell_type": "code",
   "execution_count": 36,
   "metadata": {},
   "outputs": [],
   "source": [
    "def get_restaurant(api_key,location):\n",
    "    import requests\n",
    "    \n",
    "    CLIENT_ID = \"9ab9P-ajezDTb9PTdLWh0w\"\n",
    "    api_key = \"99pDUeUrBf8aIPoQzqgZspdnLhmfb3dzeBw3QYPGa_wtyL9nPaZPnXJ6nsfPGEQhyToOHui_lvPhFJO5z916K1ZUqPuWmgNPuFCGs5K616yk41fg7jbSy3CGq3DwW3Yx\"\n",
    "    API_HOST = 'https://api.yelp.com'\n",
    "    SEARCH_PATH = '/v3/businesses/search' \n",
    "    BUSINESS_PATH = '/v3/businesses/'\n",
    "    \n",
    "    search_data = {\n",
    "        'term': \"restaruant\",\n",
    "        'location': location.replace(' ', '+'),\n",
    "        }\n",
    "    \n",
    "    url = API_HOST + SEARCH_PATH\n",
    "    headers = {\n",
    "        'Authorization': 'Bearer %s' % api_key,\n",
    "        }\n",
    "\n",
    "    restaurant_list = []\n",
    "    \n",
    "    params = {\n",
    "        'limit': 10, \n",
    "        'location': location.replace(' ', '+'),\n",
    "        'term': \"restaurant\",\n",
    "#       'sort_by':'rating'\n",
    "#       'offset': offset\n",
    "        }\n",
    "    search_data = params\n",
    "\n",
    "    response = requests.request('GET', url, headers=headers, params=search_data).json()\n",
    "    businesses = response.get('businesses')\n",
    "\n",
    "    for b in businesses:\n",
    "        if b['categories']:\n",
    "            business_tuple = (b['name'],b['review_count'],b['categories'][0]['title'],b['rating'],b['location']['display_address'][0],b['display_phone'],b['coordinates'])\n",
    "        else:\n",
    "            business_tuple = (b['name'],b['review_count'],'NA',b['rating'],b['location']['display_address'][0],b['display_phone'],b['coordinates']) \n",
    "        restaurant_list.append(business_tuple)\n",
    "    return restaurant_list\n"
   ]
  },
  {
   "cell_type": "markdown",
   "metadata": {},
   "source": [
    "# Get Attractions"
   ]
  },
  {
   "cell_type": "code",
   "execution_count": 44,
   "metadata": {},
   "outputs": [],
   "source": [
    "def get_attractions():\n",
    "    import numpy as np\n",
    "    import pandas as pd\n",
    "    import csv\n",
    "    with open ('userinput','r', encoding = 'cp1252') as df:\n",
    "        reader = csv.reader(df)\n",
    "        data = list(reader)\n",
    "\n",
    "        search_string_ = list()\n",
    "        new_data = data[6:]\n",
    "        for i in range(len(new_data)):\n",
    "            search_string_.append(new_data[i][0])\n",
    "\n",
    "    \n",
    "    df = pd.read_csv(\"tour.csv\")\n",
    "    df = df.sort_values(by=['rate'], ascending=False)\n",
    "    recommended_list = list()\n",
    "    for i in search_string_:\n",
    "        for j in range(len(df['name'])):\n",
    "            if df['categories'][j]== i:\n",
    "                recommended_list.append(df['name'][j])\n",
    "    import random\n",
    "    final_recommended_list = random.sample(recommended_list, 10)\n",
    "    return final_recommended_list\n"
   ]
  },
  {
   "cell_type": "markdown",
   "metadata": {},
   "source": [
    "<h1>Get Map"
   ]
  },
  {
   "cell_type": "code",
   "execution_count": 97,
   "metadata": {
    "scrolled": true
   },
   "outputs": [
    {
     "data": {
      "text/html": [
       "<div style=\"width:100%;\"><div style=\"position:relative;width:100%;height:0;padding-bottom:60%;\"><iframe src=\"data:text/html;charset=utf-8;base64,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\" style=\"position:absolute;width:100%;height:100%;left:0;top:0;border:none !important;\" allowfullscreen webkitallowfullscreen mozallowfullscreen></iframe></div></div>"
      ],
      "text/plain": [
       "<folium.folium.Map at 0x293036f30b8>"
      ]
     },
     "execution_count": 97,
     "metadata": {},
     "output_type": "execute_result"
    }
   ],
   "source": [
    "def get_map(get_attraction):\n",
    "    import numpy as np\n",
    "    import pandas as pd\n",
    "    import folium\n",
    "    m = folium.Map(location=[40.8075,-73.9626],zoom_start=14)\n",
    "    data = pd.read_csv(\"tour.csv\")\n",
    "\n",
    "    for i in get_attraction:\n",
    "        dd = data[data['name'] == i].copy()\n",
    "        long = float(dd['longitude'].values[0])\n",
    "        lat = float(dd['latitude'].values[0])\n",
    "        name = str(dd['name'].values[0])\n",
    "        if lat and long:\n",
    "            folium.Marker([lat,long],popup=name).add_to(m)\n",
    "    m.save('map.html')"
   ]
  },
  {
   "cell_type": "code",
   "execution_count": null,
   "metadata": {},
   "outputs": [],
   "source": []
  }
 ],
 "metadata": {
  "kernelspec": {
   "display_name": "Python 3",
   "language": "python",
   "name": "python3"
  },
  "language_info": {
   "codemirror_mode": {
    "name": "ipython",
    "version": 3
   },
   "file_extension": ".py",
   "mimetype": "text/x-python",
   "name": "python",
   "nbconvert_exporter": "python",
   "pygments_lexer": "ipython3",
   "version": "3.6.5"
  }
 },
 "nbformat": 4,
 "nbformat_minor": 2
}
