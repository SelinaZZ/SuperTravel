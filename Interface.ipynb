{
 "cells": [
  {
   "cell_type": "markdown",
   "metadata": {},
   "source": [
    "# Create the Interface"
   ]
  },
  {
   "cell_type": "code",
   "execution_count": 3,
   "metadata": {},
   "outputs": [],
   "source": [
    "# !pip install python-tk\n",
    "import tkinter as tk\n",
    "from tkinter import *\n",
    "import tkinter.scrolledtext as tkst\n",
    "from tkinter import ttk\n",
    "import webbrowser"
   ]
  },
  {
   "cell_type": "code",
   "execution_count": 4,
   "metadata": {},
   "outputs": [],
   "source": [
    "# from IPython import get_ipython\n",
    "# from nbformat import read\n",
    "# from IPython.core.interactiveshell import InteractiveShell"
   ]
  },
  {
   "cell_type": "code",
   "execution_count": 11,
   "metadata": {},
   "outputs": [],
   "source": [
    "def restaurant_interface(l):\n",
    "    re = Frame(root)\n",
    "    \n",
    "    ttk.Label(re, text = \"These are our recommended restaurants: \").grid(row = 0)\n",
    "    \n",
    "    for i in range(len(l)):\n",
    "        ttk.Label(re, text = l[i]).grid(row = (i+1))\n",
    "    \n",
    "    re.grid()"
   ]
  },
  {
   "cell_type": "code",
   "execution_count": 6,
   "metadata": {},
   "outputs": [],
   "source": [
    "# new interface for places\n",
    "def places_interface():\n",
    "    pl = Frame(root)\n",
    "    \n",
    "    ttk.Label(pl, text = \"These are our recommended attractions you may be interested in:\").grid(row=0)\n",
    "    get_attraction = get_attractions()\n",
    "    \n",
    "    def prep(event):\n",
    "        event.widget.config(bg='light blue')\n",
    "        event.widget.focus_set()  # give keyboard focus to the label\n",
    "        event.widget.bind('<Key>', edit)\n",
    "\n",
    "    def edit(i):\n",
    "        pl.destroy()\n",
    "        l = get_restaurant(i)\n",
    "        restaurant_interface(l)\n",
    "    \n",
    "    for i in get_attraction:\n",
    "        button2 = tk.Button(pl,text=i,fg=\"green\", command = lambda : edit(i))\n",
    "        button2.grid()\n",
    "        \n",
    "    button1 = tk.Button(pl, text=\"QUIT\", fg=\"pink\", command=quit)\n",
    "    button1.grid()\n",
    "    \n",
    "#     get_map(get_attraction)\n",
    "    \n",
    "#     image_url = \"map.html\"\n",
    "#     img1 = tk.PhotoImage(image_url)\n",
    "#     l = ttk.Label(pl,image=img1)\n",
    "#     l.grid()\n",
    "    \n",
    "    pl.grid()\n",
    "    \n",
    "    "
   ]
  },
  {
   "cell_type": "markdown",
   "metadata": {},
   "source": [
    "# Get Restaurant"
   ]
  },
  {
   "cell_type": "code",
   "execution_count": 13,
   "metadata": {},
   "outputs": [],
   "source": [
    "def get_restaurant(location):\n",
    "    import requests\n",
    "    \n",
    "    CLIENT_ID = \"9ab9P-ajezDTb9PTdLWh0w\"\n",
    "    api_key = \"99pDUeUrBf8aIPoQzqgZspdnLhmfb3dzeBw3QYPGa_wtyL9nPaZPnXJ6nsfPGEQhyToOHui_lvPhFJO5z916K1ZUqPuWmgNPuFCGs5K616yk41fg7jbSy3CGq3DwW3Yx\"\n",
    "    API_HOST = 'https://api.yelp.com'\n",
    "    SEARCH_PATH = '/v3/businesses/search' \n",
    "    BUSINESS_PATH = '/v3/businesses/'\n",
    "    \n",
    "    search_data = {\n",
    "        'term': \"restaruant\",\n",
    "        'location': location.replace(' ', '+'),\n",
    "        }\n",
    "    \n",
    "    url = API_HOST + SEARCH_PATH\n",
    "    headers = {\n",
    "        'Authorization': 'Bearer %s' % api_key,\n",
    "        }\n",
    "\n",
    "    restaurant_list = []\n",
    "    restaurant_name_list = []\n",
    "    params = {\n",
    "        'limit': 10, \n",
    "        'location': location.replace(' ', '+'),\n",
    "        'term': \"restaurant\",\n",
    "#       'sort_by':'rating'\n",
    "#       'offset': offset\n",
    "        }\n",
    "    search_data = params\n",
    "\n",
    "    response = requests.request('GET', url, headers=headers, params=search_data).json()\n",
    "    businesses = response.get('businesses')\n",
    "\n",
    "    for b in businesses:\n",
    "        if b['categories']:\n",
    "            business_tuple = (b['name'],b['review_count'],b['categories'][0]['title'],b['rating'],b['location']['display_address'][0],b['display_phone'],b['coordinates'])\n",
    "        else:\n",
    "            business_tuple = (b['name'],b['review_count'],'NA',b['rating'],b['location']['display_address'][0],b['display_phone'],b['coordinates']) \n",
    "        restaurant_name_list.append(b['name'])\n",
    "        restaurant_list.append(business_tuple)\n",
    "    return restaurant_name_list\n"
   ]
  },
  {
   "cell_type": "markdown",
   "metadata": {},
   "source": [
    "# Get Attractions"
   ]
  },
  {
   "cell_type": "code",
   "execution_count": 8,
   "metadata": {},
   "outputs": [],
   "source": [
    "def get_attractions():\n",
    "    import numpy as np\n",
    "    import pandas as pd\n",
    "    import csv\n",
    "    with open ('userinput','r', encoding = 'cp1252') as df:\n",
    "        reader = csv.reader(df)\n",
    "        data = list(reader)\n",
    "\n",
    "        search_string_ = list()\n",
    "        new_data = data[6:]\n",
    "        for i in range(len(new_data)):\n",
    "            search_string_.append(new_data[i][0])\n",
    "\n",
    "    \n",
    "    df = pd.read_csv(\"tour.csv\")\n",
    "    df = df.sort_values(by=['rate'], ascending=False)\n",
    "    recommended_list = list()\n",
    "    for i in search_string_:\n",
    "        for j in range(len(df['name'])):\n",
    "            if df['categories'][j]== i:\n",
    "                recommended_list.append(df['name'][j])\n",
    "    import random\n",
    "    final_recommended_list = random.sample(recommended_list, 10)\n",
    "    return final_recommended_list\n"
   ]
  },
  {
   "cell_type": "markdown",
   "metadata": {},
   "source": [
    "<h1>Get Map"
   ]
  },
  {
   "cell_type": "code",
   "execution_count": 9,
   "metadata": {
    "scrolled": true
   },
   "outputs": [],
   "source": [
    "def get_map(get_attraction):\n",
    "    import numpy as np\n",
    "    import pandas as pd\n",
    "    import folium\n",
    "    m = folium.Map(location=[40.8075,-73.9626],zoom_start=14)\n",
    "    data = pd.read_csv(\"tour.csv\")\n",
    "\n",
    "    for i in get_attraction:\n",
    "        dd = data[data['name'] == i].copy()\n",
    "        long = float(dd['longitude'].values[0])\n",
    "        lat = float(dd['latitude'].values[0])\n",
    "        name = str(dd['name'].values[0])\n",
    "        if lat and long:\n",
    "            folium.Marker([lat,long],popup=name).add_to(m)\n",
    "    m.save('map.html')"
   ]
  },
  {
   "cell_type": "code",
   "execution_count": 14,
   "metadata": {},
   "outputs": [
    {
     "name": "stdout",
     "output_type": "stream",
     "text": [
      "You pressed Submit!\n",
      "from Jan 1 2018 to Jan 1 2018 with interested in \n",
      "Galleries, Shopping Center\n"
     ]
    }
   ],
   "source": [
    "root = Tk()\n",
    "root.title(\"Tour Guidance\")\n",
    "root.geometry(\"1200x600\")\n",
    "\n",
    "app = Frame(root)\n",
    "# set the lavel to get customer's reference\n",
    "ttk.Label(app, text = \"Please choose your travel reference in NYC:\").grid(row=0)\n",
    "# set the traveller's date\n",
    "ttk.Label(app, text=\"Choose your arrival month:\").grid(column=0, row=1)\n",
    "number = tk.StringVar()\n",
    "numberChosen = ttk.Combobox(app, width=12, textvariable=number)\n",
    "numberChosen['values'] = ('Jan', 'Feb', 'Mar','Apr','May','Jun','Jul','Aug','Sep','Oct','Nov','Dec')\n",
    "numberChosen.grid(column=0, row=2)\n",
    "numberChosen.current(0)\n",
    "ttk.Label(app, text=\"Choose your arrival date:\").grid(column=1, row=1)\n",
    "number1 = tk.StringVar()\n",
    "numberChosen1 = ttk.Combobox(app, width=12, textvariable=number1)\n",
    "numberChosen1['values'] = ([i for i in range(1,32)])\n",
    "numberChosen1.grid(column=1, row=2)\n",
    "numberChosen1.current(0)\n",
    "ttk.Label(app, text=\"Choose your year:\").grid(column=2, row=1)\n",
    "number5 = tk.StringVar()\n",
    "numberChosen5 = ttk.Combobox(app, width=12, textvariable=number5)\n",
    "numberChosen5['values'] = ([i for i in range(2018,2051)])\n",
    "numberChosen5.grid(column=2, row=2)\n",
    "numberChosen5.current(0)\n",
    "ttk.Label(app, text=\"Choose your departure month:\").grid(column=3, row=1)\n",
    "number2 = tk.StringVar()\n",
    "numberChosen2 = ttk.Combobox(app, width=12, textvariable='Jan')\n",
    "numberChosen2['values'] = ('Jan', 'Feb', 'Mar','Apr','May','Jun','Jul','Aug','Sep','Oct','Nov','Dec')\n",
    "numberChosen2.grid(column=3, row=2)\n",
    "numberChosen2.current(0)\n",
    "ttk.Label(app, text=\"Choose your arrival date:\").grid(column=4, row=1)\n",
    "number3 = tk.StringVar()\n",
    "numberChosen3 = ttk.Combobox(app, width=12, textvariable=number3)\n",
    "numberChosen3['values'] = ([i for i in range(1,32)])\n",
    "numberChosen3.grid(column=4, row=2)\n",
    "numberChosen3.current(0)\n",
    "ttk.Label(app, text=\"Choose your year:\").grid(column=5, row=1)\n",
    "number4 = tk.StringVar()\n",
    "numberChosen4 = ttk.Combobox(app, width=12, textvariable=number4)\n",
    "numberChosen4['values'] = ([i for i in range(2018,2051)])\n",
    "numberChosen4.grid(column=5, row=2)\n",
    "numberChosen4.current(0)\n",
    "\n",
    "# get preference of location, tourist places\n",
    "types = ['Museums','Tourist Attraction','Galleries','Shopping Center','Amusement']\n",
    "ttk.Label(app, text=\"Choose your travel places:\").grid(column=0, row=3)\n",
    "var = []\n",
    "for i in range(len(types)):\n",
    "    var.append(IntVar())\n",
    "    c = Checkbutton(app, text = types[i], variable = var[i], onvalue = 1, offvalue = 0)\n",
    "    c.grid()\n",
    "# ttk.Label(app, text=\"If you have favored address, please write down:\").grid(column=0, row=9)\n",
    "# t = Entry(app, width=40)\n",
    "# t.grid()\n",
    "\n",
    "def buttonClick():\n",
    "    global amonth, adate, ayear, dmonth, ddate, dyear, interests\n",
    "    amonth = numberChosen.get()\n",
    "    adate = numberChosen1.get()\n",
    "    ayear = numberChosen5.get()\n",
    "    dmonth = numberChosen2.get()\n",
    "    ddate = numberChosen3.get()\n",
    "    dyear = numberChosen4.get()\n",
    "    interests = ', '.join(list(map(lambda x: types[x], [i for i in range(len(var)) if var[i].get()==1])))\n",
    "#     address = t.get()\n",
    "    print(\"You pressed Submit!\")\n",
    "    print(\"from \" + amonth + \" \" + adate + \" \" + ayear + \" to \" + dmonth + \" \" + ddate + \" \" + dyear + \" with interested in \")\n",
    "    print(', '.join(list(map(lambda x: types[x], [i for i in range(len(var)) if var[i].get()==1]))))\n",
    "#     print(' with address in ' + t.get())\n",
    "    app.destroy()\n",
    "    with open('userinput','w') as fp:\n",
    "        fp.write(amonth + '\\n')\n",
    "        fp.write(adate + '\\n')\n",
    "        fp.write(ayear + '\\n')\n",
    "        fp.write(dmonth + '\\n')\n",
    "        fp.write(ddate + '\\n')\n",
    "        fp.write(dyear + '\\n')\n",
    "        fp.write(interests + '\\n')\n",
    "    places_interface()\n",
    "\n",
    "b = Button(app, command = buttonClick, text=\"OK\")\n",
    "b.grid()\n",
    "\n",
    "\n",
    "app.grid()\n",
    "root.mainloop()\n",
    "# interests = ', '.join(list(map(lambda x: types[x], [i for i in range(len(var)) if var[i].get() == 1])))"
   ]
  },
  {
   "cell_type": "code",
   "execution_count": null,
   "metadata": {},
   "outputs": [],
   "source": []
  }
 ],
 "metadata": {
  "kernelspec": {
   "display_name": "Python 3",
   "language": "python",
   "name": "python3"
  },
  "language_info": {
   "codemirror_mode": {
    "name": "ipython",
    "version": 3
   },
   "file_extension": ".py",
   "mimetype": "text/x-python",
   "name": "python",
   "nbconvert_exporter": "python",
   "pygments_lexer": "ipython3",
   "version": "3.6.5"
  }
 },
 "nbformat": 4,
 "nbformat_minor": 2
}
