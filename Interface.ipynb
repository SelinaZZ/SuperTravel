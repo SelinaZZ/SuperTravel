{
 "cells": [
  {
   "cell_type": "code",
   "execution_count": 16,
   "metadata": {},
   "outputs": [],
   "source": [
    "# !pip install python-tk\n",
    "import tkinter as tk\n",
    "from tkinter import *\n",
    "import tkinter.scrolledtext as tkst\n",
    "from tkinter import ttk\n",
    "import webbrowser"
   ]
  },
  {
   "cell_type": "code",
   "execution_count": 28,
   "metadata": {},
   "outputs": [
    {
     "name": "stdout",
     "output_type": "stream",
     "text": [
      "You pressed Submit!\n",
      "from Jan 1 2018 to Jan 1 2018 with interested in \n",
      "Galleries\n"
     ]
    }
   ],
   "source": [
    "root = Tk()\n",
    "root.title(\"Tour Guidance\")\n",
    "root.geometry(\"1200x600\")\n",
    "\n",
    "app = Frame(root)\n",
    "# set the lavel to get customer's reference\n",
    "ttk.Label(app, text = \"Please choose your travel reference in NYC:\").grid(row=0)\n",
    "# set the traveller's date\n",
    "ttk.Label(app, text=\"Choose your arrival month:\").grid(column=0, row=1)\n",
    "number = tk.StringVar()\n",
    "numberChosen = ttk.Combobox(app, width=12, textvariable=number)\n",
    "numberChosen['values'] = ('Jan', 'Feb', 'Mar','Apr','May','Jun','Jul','Aug','Sep','Oct','Nov','Dec')\n",
    "numberChosen.grid(column=0, row=2)\n",
    "numberChosen.current(0)\n",
    "ttk.Label(app, text=\"Choose your arrival date:\").grid(column=1, row=1)\n",
    "number1 = tk.StringVar()\n",
    "numberChosen1 = ttk.Combobox(app, width=12, textvariable=number1)\n",
    "numberChosen1['values'] = ([i for i in range(1,32)])\n",
    "numberChosen1.grid(column=1, row=2)\n",
    "numberChosen1.current(0)\n",
    "ttk.Label(app, text=\"Choose your year:\").grid(column=2, row=1)\n",
    "number5 = tk.StringVar()\n",
    "numberChosen5 = ttk.Combobox(app, width=12, textvariable=number5)\n",
    "numberChosen5['values'] = ([i for i in range(2018,2051)])\n",
    "numberChosen5.grid(column=2, row=2)\n",
    "numberChosen5.current(0)\n",
    "ttk.Label(app, text=\"Choose your departure month:\").grid(column=3, row=1)\n",
    "number2 = tk.StringVar()\n",
    "numberChosen2 = ttk.Combobox(app, width=12, textvariable='Jan')\n",
    "numberChosen2['values'] = ('Jan', 'Feb', 'Mar','Apr','May','Jun','Jul','Aug','Sep','Oct','Nov','Dec')\n",
    "numberChosen2.grid(column=3, row=2)\n",
    "numberChosen2.current(0)\n",
    "ttk.Label(app, text=\"Choose your arrival date:\").grid(column=4, row=1)\n",
    "number3 = tk.StringVar()\n",
    "numberChosen3 = ttk.Combobox(app, width=12, textvariable=number3)\n",
    "numberChosen3['values'] = ([i for i in range(1,32)])\n",
    "numberChosen3.grid(column=4, row=2)\n",
    "numberChosen3.current(0)\n",
    "ttk.Label(app, text=\"Choose your year:\").grid(column=5, row=1)\n",
    "number4 = tk.StringVar()\n",
    "numberChosen4 = ttk.Combobox(app, width=12, textvariable=number4)\n",
    "numberChosen4['values'] = ([i for i in range(2018,2051)])\n",
    "numberChosen4.grid(column=5, row=2)\n",
    "numberChosen4.current(0)\n",
    "\n",
    "# get preference of location, tourist places\n",
    "types = ['Museums','Tourist Attraction','Galleries','Shopping Center','Amusement']\n",
    "ttk.Label(app, text=\"Choose your travel places:\").grid(column=0, row=3)\n",
    "var = []\n",
    "for i in range(len(types)):\n",
    "    var.append(IntVar())\n",
    "    c = Checkbutton(app, text = types[i], variable = var[i], onvalue = 1, offvalue = 0)\n",
    "    c.grid()\n",
    "# ttk.Label(app, text=\"If you have favored address, please write down:\").grid(column=0, row=9)\n",
    "# t = Entry(app, width=40)\n",
    "# t.grid()\n",
    "\n",
    "def buttonClick():\n",
    "    global amonth, adate, ayear, dmonth, ddate, dyear, interests\n",
    "    amonth = numberChosen.get()\n",
    "    adate = numberChosen1.get()\n",
    "    ayear = numberChosen5.get()\n",
    "    dmonth = numberChosen2.get()\n",
    "    ddate = numberChosen3.get()\n",
    "    dyear = numberChosen4.get()\n",
    "    interests = ', '.join(list(map(lambda x: types[x], [i for i in range(len(var)) if var[i].get()==1])))\n",
    "#     address = t.get()\n",
    "    print(\"You pressed Submit!\")\n",
    "    print(\"from \" + amonth + \" \" + adate + \" \" + ayear + \" to \" + dmonth + \" \" + ddate + \" \" + dyear + \" with interested in \")\n",
    "    print(', '.join(list(map(lambda x: types[x], [i for i in range(len(var)) if var[i].get()==1]))))\n",
    "#     print(' with address in ' + t.get())\n",
    "    app.destroy()\n",
    "    with open('userinput','w') as fp:\n",
    "        fp.write(amonth + '\\n')\n",
    "        fp.write(adate + '\\n')\n",
    "        fp.write(ayear + '\\n')\n",
    "        fp.write(dmonth + '\\n')\n",
    "        fp.write(ddate + '\\n')\n",
    "        fp.write(dyear + '\\n')\n",
    "        fp.write(interests + '\\n')\n",
    "    places_interface()\n",
    "\n",
    "b = Button(app, command = buttonClick, text=\"OK\")\n",
    "b.grid()\n",
    "\n",
    "\n",
    "app.grid()\n",
    "root.mainloop()\n",
    "# interests = ', '.join(list(map(lambda x: types[x], [i for i in range(len(var)) if var[i].get() == 1])))"
   ]
  },
  {
   "cell_type": "code",
   "execution_count": 27,
   "metadata": {},
   "outputs": [],
   "source": [
    "# from IPython import get_ipython\n",
    "# from nbformat import read\n",
    "# from IPython.core.interactiveshell import InteractiveShell"
   ]
  },
  {
   "cell_type": "code",
   "execution_count": 24,
   "metadata": {},
   "outputs": [],
   "source": [
    "# new interface for places\n",
    "def places_interface():\n",
    "    pl = Frame(root)\n",
    "    \n",
    "    ttk.Label(pl, text = \"These are our recommended attractions you may be interested in:\").grid(row=0)\n",
    "    def prep(event):\n",
    "    event.widget.config(bg='light blue')\n",
    "    event.widget.focus_set()  # give keyboard focus to the label\n",
    "    event.widget.bind('<Key>', edit)\n",
    "\n",
    "    def edit(event):\n",
    "        print(event.char)\n",
    "\n",
    "example = Label(frame, text='Click me')\n",
    "example.pack()\n",
    "example.bind('<Button-1>', prep)\n",
    "    pl.grid()"
   ]
  },
  {
   "cell_type": "code",
   "execution_count": null,
   "metadata": {},
   "outputs": [],
   "source": []
  }
 ],
 "metadata": {
  "kernelspec": {
   "display_name": "Python 3",
   "language": "python",
   "name": "python3"
  },
  "language_info": {
   "codemirror_mode": {
    "name": "ipython",
    "version": 3
   },
   "file_extension": ".py",
   "mimetype": "text/x-python",
   "name": "python",
   "nbconvert_exporter": "python",
   "pygments_lexer": "ipython3",
   "version": "3.6.5"
  }
 },
 "nbformat": 4,
 "nbformat_minor": 2
}
